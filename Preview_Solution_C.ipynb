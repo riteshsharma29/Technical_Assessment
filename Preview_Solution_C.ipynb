{
 "cells": [
  {
   "cell_type": "code",
   "execution_count": 1,
   "metadata": {},
   "outputs": [],
   "source": [
    "#importing search_api\n",
    "import search_api"
   ]
  },
  {
   "cell_type": "code",
   "execution_count": 2,
   "metadata": {},
   "outputs": [
    {
     "name": "stdout",
     "output_type": "stream",
     "text": [
      "keystone - Circular reference found role inference\n"
     ]
    }
   ],
   "source": [
    "#Passing string as input\n",
    "mystring = input()"
   ]
  },
  {
   "cell_type": "code",
   "execution_count": 4,
   "metadata": {},
   "outputs": [],
   "source": [
    "#Creating object of class Search_Api\n",
    "query_res = search_api.Search_Api()"
   ]
  },
  {
   "cell_type": "code",
   "execution_count": 5,
   "metadata": {},
   "outputs": [
    {
     "name": "stdout",
     "output_type": "stream",
     "text": [
      "'NoneType' object has no attribute 'get_text'\n",
      "'NoneType' object has no attribute 'get_text'\n"
     ]
    },
    {
     "data": {
      "text/html": [
       "<div>\n",
       "<style scoped>\n",
       "    .dataframe tbody tr th:only-of-type {\n",
       "        vertical-align: middle;\n",
       "    }\n",
       "\n",
       "    .dataframe tbody tr th {\n",
       "        vertical-align: top;\n",
       "    }\n",
       "\n",
       "    .dataframe thead th {\n",
       "        text-align: right;\n",
       "    }\n",
       "</style>\n",
       "<table border=\"1\" class=\"dataframe\">\n",
       "  <thead>\n",
       "    <tr style=\"text-align: right;\">\n",
       "      <th></th>\n",
       "      <th>Titles</th>\n",
       "      <th>Descriptions</th>\n",
       "      <th>Links</th>\n",
       "    </tr>\n",
       "  </thead>\n",
       "  <tbody>\n",
       "    <tr>\n",
       "      <th>0</th>\n",
       "      <td>Bug #1803780 “confusing “Circular reference fo...</td>\n",
       "      <td>16-Nov-2018 · [17003]: ERROR keystone.assignme...</td>\n",
       "      <td>https://bugs.launchpad.net/bugs/1803780</td>\n",
       "    </tr>\n",
       "    <tr>\n",
       "      <th>1</th>\n",
       "      <td>Bug #1780224 “ERROR configuring keystone_init_...</td>\n",
       "      <td>05-Jul-2018 · \"Notice: /Stage[main]/Keystone::...</td>\n",
       "      <td>https://bugs.launchpad.net/bugs/1780224</td>\n",
       "    </tr>\n",
       "    <tr>\n",
       "      <th>2</th>\n",
       "      <td>keystone.assignment.core - OpenStack Docs</td>\n",
       "      <td>14-May-2019 · Any write operation to add or re...</td>\n",
       "      <td>https://docs.openstack.org/keystone/pike/_modu...</td>\n",
       "    </tr>\n",
       "    <tr>\n",
       "      <th>3</th>\n",
       "      <td>openstack/keystone.git/commitdiff - review.ope...</td>\n",
       "      <td>msgid \"Circular reference found role inference...</td>\n",
       "      <td>https://review.opendev.org/gitweb%3Fp%3Dopenst...</td>\n",
       "    </tr>\n",
       "    <tr>\n",
       "      <th>4</th>\n",
       "      <td>[Yahoo-eng-team] [Bug 1801778] Re: Keystone ci...</td>\n",
       "      <td>09-Nov-2018 · Also affects: keystone Importanc...</td>\n",
       "      <td>https://www.mail-archive.com/yahoo-eng-team%40...</td>\n",
       "    </tr>\n",
       "  </tbody>\n",
       "</table>\n",
       "</div>"
      ],
      "text/plain": [
       "                                              Titles  \\\n",
       "0  Bug #1803780 “confusing “Circular reference fo...   \n",
       "1  Bug #1780224 “ERROR configuring keystone_init_...   \n",
       "2          keystone.assignment.core - OpenStack Docs   \n",
       "3  openstack/keystone.git/commitdiff - review.ope...   \n",
       "4  [Yahoo-eng-team] [Bug 1801778] Re: Keystone ci...   \n",
       "\n",
       "                                        Descriptions  \\\n",
       "0  16-Nov-2018 · [17003]: ERROR keystone.assignme...   \n",
       "1  05-Jul-2018 · \"Notice: /Stage[main]/Keystone::...   \n",
       "2  14-May-2019 · Any write operation to add or re...   \n",
       "3  msgid \"Circular reference found role inference...   \n",
       "4  09-Nov-2018 · Also affects: keystone Importanc...   \n",
       "\n",
       "                                               Links  \n",
       "0            https://bugs.launchpad.net/bugs/1803780  \n",
       "1            https://bugs.launchpad.net/bugs/1780224  \n",
       "2  https://docs.openstack.org/keystone/pike/_modu...  \n",
       "3  https://review.opendev.org/gitweb%3Fp%3Dopenst...  \n",
       "4  https://www.mail-archive.com/yahoo-eng-team%40...  "
      ]
     },
     "execution_count": 5,
     "metadata": {},
     "output_type": "execute_result"
    }
   ],
   "source": [
    "#Top 5 Search results information structured in a DataFrame for Preview\n",
    "result = query_res.get_results(mystring)\n",
    "result"
   ]
  },
  {
   "cell_type": "code",
   "execution_count": 6,
   "metadata": {},
   "outputs": [],
   "source": [
    "#If we required we can extract and Store search results in a Excel file\n",
    "result.to_excel('search_results.xlsx',index=False)"
   ]
  },
  {
   "cell_type": "code",
   "execution_count": 7,
   "metadata": {},
   "outputs": [],
   "source": [
    "#Reading Links column from result DataFrame into a list \n",
    "link = result['Links'].values.T.tolist()"
   ]
  },
  {
   "cell_type": "code",
   "execution_count": 9,
   "metadata": {},
   "outputs": [
    {
     "data": {
      "text/html": [
       "<div>\n",
       "<style scoped>\n",
       "    .dataframe tbody tr th:only-of-type {\n",
       "        vertical-align: middle;\n",
       "    }\n",
       "\n",
       "    .dataframe tbody tr th {\n",
       "        vertical-align: top;\n",
       "    }\n",
       "\n",
       "    .dataframe thead th {\n",
       "        text-align: right;\n",
       "    }\n",
       "</style>\n",
       "<table border=\"1\" class=\"dataframe\">\n",
       "  <thead>\n",
       "    <tr style=\"text-align: right;\">\n",
       "      <th></th>\n",
       "      <th>Information on the result Page - Links</th>\n",
       "    </tr>\n",
       "  </thead>\n",
       "  <tbody>\n",
       "    <tr>\n",
       "      <th>0</th>\n",
       "      <td>https://bugs.launchpad.net/keystone/+bug/18037...</td>\n",
       "    </tr>\n",
       "    <tr>\n",
       "      <th>1</th>\n",
       "      <td>https://launchpad.net/~ayoung</td>\n",
       "    </tr>\n",
       "    <tr>\n",
       "      <th>2</th>\n",
       "      <td>https://bugs.launchpad.net/keystone/+bug/18037...</td>\n",
       "    </tr>\n",
       "    <tr>\n",
       "      <th>3</th>\n",
       "      <td>https://launchpad.net/keystone</td>\n",
       "    </tr>\n",
       "    <tr>\n",
       "      <th>4</th>\n",
       "      <td>http://canonical.com/</td>\n",
       "    </tr>\n",
       "  </tbody>\n",
       "</table>\n",
       "</div>"
      ],
      "text/plain": [
       "              Information on the result Page - Links\n",
       "0  https://bugs.launchpad.net/keystone/+bug/18037...\n",
       "1                      https://launchpad.net/~ayoung\n",
       "2  https://bugs.launchpad.net/keystone/+bug/18037...\n",
       "3                     https://launchpad.net/keystone\n",
       "4                              http://canonical.com/"
      ]
     },
     "execution_count": 9,
     "metadata": {},
     "output_type": "execute_result"
    }
   ],
   "source": [
    "#Extracting first 5 information Links from first search result\n",
    "result_0 = query_res.parse_results(link[0])\n",
    "result_0.head()"
   ]
  },
  {
   "cell_type": "code",
   "execution_count": 10,
   "metadata": {},
   "outputs": [
    {
     "data": {
      "text/html": [
       "<div>\n",
       "<style scoped>\n",
       "    .dataframe tbody tr th:only-of-type {\n",
       "        vertical-align: middle;\n",
       "    }\n",
       "\n",
       "    .dataframe tbody tr th {\n",
       "        vertical-align: top;\n",
       "    }\n",
       "\n",
       "    .dataframe thead th {\n",
       "        text-align: right;\n",
       "    }\n",
       "</style>\n",
       "<table border=\"1\" class=\"dataframe\">\n",
       "  <thead>\n",
       "    <tr style=\"text-align: right;\">\n",
       "      <th></th>\n",
       "      <th>Information on the result Page - Links</th>\n",
       "    </tr>\n",
       "  </thead>\n",
       "  <tbody>\n",
       "    <tr>\n",
       "      <th>0</th>\n",
       "      <td>https://answers.launchpad.net/tripleo</td>\n",
       "    </tr>\n",
       "    <tr>\n",
       "      <th>1</th>\n",
       "      <td>http://192.168.24.10:8776/v2/%(tenant_id)s</td>\n",
       "    </tr>\n",
       "    <tr>\n",
       "      <th>2</th>\n",
       "      <td>https://bugs.launchpad.net/tripleo/+bug/178022...</td>\n",
       "    </tr>\n",
       "    <tr>\n",
       "      <th>3</th>\n",
       "      <td>http://logs.openstack.org/45/560445/82/check/t...</td>\n",
       "    </tr>\n",
       "    <tr>\n",
       "      <th>4</th>\n",
       "      <td>https://launchpad.net/~sshnaidm</td>\n",
       "    </tr>\n",
       "  </tbody>\n",
       "</table>\n",
       "</div>"
      ],
      "text/plain": [
       "              Information on the result Page - Links\n",
       "0              https://answers.launchpad.net/tripleo\n",
       "1         http://192.168.24.10:8776/v2/%(tenant_id)s\n",
       "2  https://bugs.launchpad.net/tripleo/+bug/178022...\n",
       "3  http://logs.openstack.org/45/560445/82/check/t...\n",
       "4                    https://launchpad.net/~sshnaidm"
      ]
     },
     "execution_count": 10,
     "metadata": {},
     "output_type": "execute_result"
    }
   ],
   "source": [
    "#Extracting first 5 information Links from second search result\n",
    "result_1 = query_res.parse_results(link[1])\n",
    "result_1.head()"
   ]
  },
  {
   "cell_type": "code",
   "execution_count": 11,
   "metadata": {},
   "outputs": [
    {
     "data": {
      "text/html": [
       "<div>\n",
       "<style scoped>\n",
       "    .dataframe tbody tr th:only-of-type {\n",
       "        vertical-align: middle;\n",
       "    }\n",
       "\n",
       "    .dataframe tbody tr th {\n",
       "        vertical-align: top;\n",
       "    }\n",
       "\n",
       "    .dataframe thead th {\n",
       "        text-align: right;\n",
       "    }\n",
       "</style>\n",
       "<table border=\"1\" class=\"dataframe\">\n",
       "  <thead>\n",
       "    <tr style=\"text-align: right;\">\n",
       "      <th></th>\n",
       "      <th>Information on the result Page - Links</th>\n",
       "    </tr>\n",
       "  </thead>\n",
       "  <tbody>\n",
       "    <tr>\n",
       "      <th>0</th>\n",
       "      <td>https://help.launchpad.net/ListHelp</td>\n",
       "    </tr>\n",
       "    <tr>\n",
       "      <th>1</th>\n",
       "      <td>https://192.168.24.2/keystone/v3/auth/tokens</td>\n",
       "    </tr>\n",
       "    <tr>\n",
       "      <th>2</th>\n",
       "      <td>https://launchpad.net/~yahoo-eng-team</td>\n",
       "    </tr>\n",
       "    <tr>\n",
       "      <th>3</th>\n",
       "      <td>https://bugs.launchpad.net/keystone/+bug/18017...</td>\n",
       "    </tr>\n",
       "    <tr>\n",
       "      <th>4</th>\n",
       "      <td>https://bugs.launchpad.net/bugs/1801778</td>\n",
       "    </tr>\n",
       "  </tbody>\n",
       "</table>\n",
       "</div>"
      ],
      "text/plain": [
       "              Information on the result Page - Links\n",
       "0                https://help.launchpad.net/ListHelp\n",
       "1       https://192.168.24.2/keystone/v3/auth/tokens\n",
       "2              https://launchpad.net/~yahoo-eng-team\n",
       "3  https://bugs.launchpad.net/keystone/+bug/18017...\n",
       "4            https://bugs.launchpad.net/bugs/1801778"
      ]
     },
     "execution_count": 11,
     "metadata": {},
     "output_type": "execute_result"
    }
   ],
   "source": [
    "# We can explore other information Links So on and so forth.\n",
    "# Finally Extracting first 5 information Links from fifth search result\n",
    "result_4 = query_res.parse_results(link[4])\n",
    "result_4.head()"
   ]
  },
  {
   "cell_type": "code",
   "execution_count": null,
   "metadata": {},
   "outputs": [],
   "source": []
  }
 ],
 "metadata": {
  "kernelspec": {
   "display_name": "Python 3",
   "language": "python",
   "name": "python3"
  },
  "language_info": {
   "codemirror_mode": {
    "name": "ipython",
    "version": 3
   },
   "file_extension": ".py",
   "mimetype": "text/x-python",
   "name": "python",
   "nbconvert_exporter": "python",
   "pygments_lexer": "ipython3",
   "version": "3.7.3"
  }
 },
 "nbformat": 4,
 "nbformat_minor": 2
}
