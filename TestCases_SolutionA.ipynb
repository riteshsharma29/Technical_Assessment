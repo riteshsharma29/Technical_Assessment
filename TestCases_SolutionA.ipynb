{
 "cells": [
  {
   "cell_type": "code",
   "execution_count": 2,
   "metadata": {},
   "outputs": [],
   "source": [
    "''' Importing library/module to a program that accepts two lines\n",
    "(x1,x2) and (x3,x4) on the x-axis and returns whether they overlap'''\n",
    "import solutionA"
   ]
  },
  {
   "cell_type": "code",
   "execution_count": 3,
   "metadata": {},
   "outputs": [],
   "source": [
    "#creating object \n",
    "myobj = solutionA.Overlap"
   ]
  },
  {
   "cell_type": "code",
   "execution_count": 4,
   "metadata": {},
   "outputs": [
    {
     "name": "stdout",
     "output_type": "stream",
     "text": [
      "\n",
      "\n",
      "Please pass x1,x2,x3,x4 input/parameters as positive OR Negative integers to overlap_check method/Function\n",
      "\n"
     ]
    },
    {
     "data": {
      "text/plain": [
       "'(1, 5) & (2, 6) overlaps on x-axis'"
      ]
     },
     "execution_count": 4,
     "metadata": {},
     "output_type": "execute_result"
    }
   ],
   "source": [
    "#Test Case 1\n",
    "myobj.overlap_check(1,5,2,6)"
   ]
  },
  {
   "cell_type": "code",
   "execution_count": 5,
   "metadata": {},
   "outputs": [
    {
     "name": "stdout",
     "output_type": "stream",
     "text": [
      "\n",
      "\n",
      "Please pass x1,x2,x3,x4 input/parameters as positive OR Negative integers to overlap_check method/Function\n",
      "\n"
     ]
    },
    {
     "data": {
      "text/plain": [
       "\"(1, 5) & (6, 8) don't overlaps on x-axis\""
      ]
     },
     "execution_count": 5,
     "metadata": {},
     "output_type": "execute_result"
    }
   ],
   "source": [
    "#Test Case 2\n",
    "myobj.overlap_check(1,5,6,8)"
   ]
  },
  {
   "cell_type": "code",
   "execution_count": 7,
   "metadata": {},
   "outputs": [
    {
     "name": "stdout",
     "output_type": "stream",
     "text": [
      "\n",
      "\n",
      "Please pass x1,x2,x3,x4 input/parameters as positive OR Negative integers to overlap_check method/Function\n",
      "\n"
     ]
    },
    {
     "data": {
      "text/plain": [
       "\"(-1, -5) & (2, 6) don't overlaps on x-axis\""
      ]
     },
     "execution_count": 7,
     "metadata": {},
     "output_type": "execute_result"
    }
   ],
   "source": [
    "#Test Case 3\n",
    "myobj.overlap_check(-1,-5,2,6)"
   ]
  },
  {
   "cell_type": "code",
   "execution_count": 8,
   "metadata": {},
   "outputs": [
    {
     "name": "stdout",
     "output_type": "stream",
     "text": [
      "\n",
      "\n",
      "Please pass x1,x2,x3,x4 input/parameters as positive OR Negative integers to overlap_check method/Function\n",
      "\n"
     ]
    },
    {
     "data": {
      "text/plain": [
       "'(2, 5) & (-2, -8) overlaps on x-axis'"
      ]
     },
     "execution_count": 8,
     "metadata": {},
     "output_type": "execute_result"
    }
   ],
   "source": [
    "#Test Case 4\n",
    "myobj.overlap_check(2,5,-2,-8)"
   ]
  },
  {
   "cell_type": "code",
   "execution_count": 9,
   "metadata": {},
   "outputs": [
    {
     "name": "stdout",
     "output_type": "stream",
     "text": [
      "\n",
      "\n",
      "Please pass x1,x2,x3,x4 input/parameters as positive OR Negative integers to overlap_check method/Function\n",
      "\n",
      "x1 :1 parameter is not a integer.\n"
     ]
    },
    {
     "ename": "SystemExit",
     "evalue": "",
     "output_type": "error",
     "traceback": [
      "An exception has occurred, use %tb to see the full traceback.\n",
      "\u001b[1;31mSystemExit\u001b[0m\n"
     ]
    },
    {
     "name": "stderr",
     "output_type": "stream",
     "text": [
      "d:\\Anaconda3\\lib\\site-packages\\IPython\\core\\interactiveshell.py:3333: UserWarning: To exit: use 'exit', 'quit', or Ctrl-D.\n",
      "  warn(\"To exit: use 'exit', 'quit', or Ctrl-D.\", stacklevel=1)\n"
     ]
    }
   ],
   "source": [
    "#Test Case 5\n",
    "myobj.overlap_check(\"1\",5,2,6)"
   ]
  },
  {
   "cell_type": "code",
   "execution_count": 11,
   "metadata": {},
   "outputs": [
    {
     "name": "stdout",
     "output_type": "stream",
     "text": [
      "\n",
      "\n",
      "Please pass x1,x2,x3,x4 input/parameters as positive OR Negative integers to overlap_check method/Function\n",
      "\n",
      "x2 :s parameter is not a integer.\n"
     ]
    },
    {
     "ename": "SystemExit",
     "evalue": "",
     "output_type": "error",
     "traceback": [
      "An exception has occurred, use %tb to see the full traceback.\n",
      "\u001b[1;31mSystemExit\u001b[0m\n"
     ]
    }
   ],
   "source": [
    "#Test Case 6\n",
    "myobj.overlap_check(1,\"s\",2,6)"
   ]
  },
  {
   "cell_type": "code",
   "execution_count": 12,
   "metadata": {},
   "outputs": [
    {
     "name": "stdout",
     "output_type": "stream",
     "text": [
      "\n",
      "\n",
      "Please pass x1,x2,x3,x4 input/parameters as positive OR Negative integers to overlap_check method/Function\n",
      "\n"
     ]
    },
    {
     "data": {
      "text/plain": [
       "'(-1, -5) & (-2, -6) overlaps on x-axis'"
      ]
     },
     "execution_count": 12,
     "metadata": {},
     "output_type": "execute_result"
    }
   ],
   "source": [
    "#Test Case 7\n",
    "myobj.overlap_check(-1,-5,-2,-6)"
   ]
  },
  {
   "cell_type": "code",
   "execution_count": 13,
   "metadata": {},
   "outputs": [
    {
     "name": "stdout",
     "output_type": "stream",
     "text": [
      "\n",
      "\n",
      "Please pass x1,x2,x3,x4 input/parameters as positive OR Negative integers to overlap_check method/Function\n",
      "\n"
     ]
    },
    {
     "data": {
      "text/plain": [
       "'(1, 5) & (-2, 6) overlaps on x-axis'"
      ]
     },
     "execution_count": 13,
     "metadata": {},
     "output_type": "execute_result"
    }
   ],
   "source": [
    "#Test Case 8\n",
    "myobj.overlap_check(1,5,-2,6)"
   ]
  },
  {
   "cell_type": "code",
   "execution_count": null,
   "metadata": {},
   "outputs": [],
   "source": []
  }
 ],
 "metadata": {
  "kernelspec": {
   "display_name": "Python 3",
   "language": "python",
   "name": "python3"
  },
  "language_info": {
   "codemirror_mode": {
    "name": "ipython",
    "version": 3
   },
   "file_extension": ".py",
   "mimetype": "text/x-python",
   "name": "python",
   "nbconvert_exporter": "python",
   "pygments_lexer": "ipython3",
   "version": "3.7.3"
  }
 },
 "nbformat": 4,
 "nbformat_minor": 2
}
